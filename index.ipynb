{
 "cells": [
  {
   "cell_type": "markdown",
   "metadata": {},
   "source": [
    "# The Curse of Dimensionality - Lab\n",
    "\n",
    "## Introduction\n",
    "\n",
    "In this lab, you'll conduct some mathematical simulations to further investigate the consequences of the curse of dimensionality.\n",
    "\n",
    "## Objectives\n",
    "\n",
    "In this lab you will: \n",
    "\n",
    "- Create and interpret a visual demonstrating how sparsity changes with n for n-dimensional spaces \n",
    "- Demonstrate how training time increases exponentially as the number of features increases\n"
   ]
  },
  {
   "cell_type": "markdown",
   "metadata": {},
   "source": [
    "## Sparseness in N-Dimensional Space\n",
    "\n",
    "As discussed, points in n-dimensional space become increasingly sparse as the number of dimensions increases. To demonstrate this, you'll write a function to calculate the Euclidean distance between two points. From there, you'll then generate random points in n-dimensional space, calculate their average distance from the origin, and plot the relationship between this average distance and n."
   ]
  },
  {
   "cell_type": "markdown",
   "metadata": {},
   "source": [
    "## Euclidean Distance\n",
    "\n",
    "To start, write a function which takes two points, p1 and p2, and returns the Euclidean distance between them. Recall that the Euclidean distance between two points is given by:  \n",
    "\n",
    "$$ d(a,b) = \\sqrt{(a_1 - b_1)^2 + (a_2 - b_2)^2 + ... + (a_n - b_n)^2} $$"
   ]
  },
  {
   "cell_type": "code",
   "execution_count": 1,
   "metadata": {
    "ExecuteTime": {
     "end_time": "2020-07-14T16:25:57.990631Z",
     "start_time": "2020-07-14T16:25:57.987430Z"
    }
   },
   "outputs": [],
   "source": [
    "import numpy as np"
   ]
  },
  {
   "cell_type": "code",
   "execution_count": 8,
   "metadata": {
    "ExecuteTime": {
     "end_time": "2020-07-14T16:46:20.314512Z",
     "start_time": "2020-07-14T16:46:20.310559Z"
    }
   },
   "outputs": [],
   "source": [
    "def euclidean_distance(p1, p2):\n",
    "    return np.sqrt(np.square(p1 - p2).sum())"
   ]
  },
  {
   "cell_type": "markdown",
   "metadata": {},
   "source": [
    "## Average Distance From the Origin\n",
    "\n",
    "To examine the curse of dimensionality, you'll investigate the average distance to the center of n-dimensional space. As you'll see, this average distance increases as the number of dimensions increases. To investigate this, generate 100 random points for various n-dimensional spaces. Investigate n-dimensional spaces from n=1 to n=1000. In each of these, construct the 100 random points using a random number between -10 and 10 for each dimension of the point. From there, calculate the average distance from each of these points to the origin. Finally, plot this relationship on a graph; the x-axis will be n, the number of dimensions, and the y-axis will be the average distance from the origin."
   ]
  },
  {
   "cell_type": "code",
   "execution_count": 3,
   "metadata": {
    "ExecuteTime": {
     "end_time": "2020-07-14T16:29:03.825350Z",
     "start_time": "2020-07-14T16:28:42.994697Z"
    }
   },
   "outputs": [
    {
     "name": "stderr",
     "output_type": "stream",
     "text": [
      "/Users/freethrall/anaconda3/envs/learn-env/lib/python3.6/site-packages/statsmodels/tools/_testing.py:19: FutureWarning: pandas.util.testing is deprecated. Use the functions in the public API at pandas.testing instead.\n",
      "  import pandas.util.testing as tm\n"
     ]
    }
   ],
   "source": [
    "import matplotlib.pyplot as plt\n",
    "import seaborn as sns\n",
    "%matplotlib inline\n",
    "sns.set_style('darkgrid')"
   ]
  },
  {
   "cell_type": "code",
   "execution_count": 18,
   "metadata": {
    "ExecuteTime": {
     "end_time": "2020-07-14T16:53:33.910641Z",
     "start_time": "2020-07-14T16:53:21.502512Z"
    }
   },
   "outputs": [],
   "source": [
    "# from solution\n",
    "ave_dist_list = []\n",
    "\n",
    "for dim in range(1, 1001): # dimensions from 1 to 1000\n",
    "    # np.random.uniform(low=-10, high=10, size=dim creates a random point in n dims.\n",
    "    # [0 for i in range(dim)] creates the origin in n dims\n",
    "    # for p in range(100) creates 100 instances of the euclidean_distance function to be sent to np.mean\n",
    "    ave_dist_list.append(np.mean([euclidean_distance(np.random.uniform(low=-10, high=10, size=dim), \n",
    "                                                     [0 for i in range(dim)]) for p in range(100)]))"
   ]
  },
  {
   "cell_type": "code",
   "execution_count": 22,
   "metadata": {
    "ExecuteTime": {
     "end_time": "2020-07-14T17:00:34.404933Z",
     "start_time": "2020-07-14T17:00:22.018808Z"
    }
   },
   "outputs": [],
   "source": [
    "# more readable version\n",
    "ave_dist_list = []\n",
    "\n",
    "for dim in range(1, 1001): # dimensions from 1 to 1000\n",
    "    dists_for_dim = []\n",
    "    for p in range(100): # we want 100 points\n",
    "        dists_for_dim.append(euclidean_distance(np.random.uniform(low=-10, high=10, size=dim), \n",
    "                                                [0 for i in range(dim)]))\n",
    "    ave_dist_list.append(np.mean(dists_for_dim))"
   ]
  },
  {
   "cell_type": "code",
   "execution_count": 23,
   "metadata": {
    "ExecuteTime": {
     "end_time": "2020-07-14T17:00:34.839177Z",
     "start_time": "2020-07-14T17:00:34.426128Z"
    }
   },
   "outputs": [
    {
     "data": {
      "text/plain": [
       "[<matplotlib.lines.Line2D at 0x1a2082cb70>]"
      ]
     },
     "execution_count": 23,
     "metadata": {},
     "output_type": "execute_result"
    },
    {
     "data": {
      "image/png": "[encoded data removed]",
      "text/plain": [
       "<Figure size 432x288 with 1 Axes>"
      ]
     },
     "metadata": {
      "needs_background": "light"
     },
     "output_type": "display_data"
    }
   ],
   "source": [
    "plt.plot(range(1, 1001), ave_dist_list)"
   ]
  },
  {
   "cell_type": "markdown",
   "metadata": {},
   "source": [
    "## Convergence Time\n",
    "\n",
    "As mentioned before, another issue with increasing the dimension of the feature space is the training time required to fit a machine learning model. While more data will generally lead to better predictive results, it will also substantially increase training time. To demonstrate this, \n",
    "* generate lists of random numbers as you did above. \n",
    "* Then, use this list of random numbers as a feature in a mock dataset; \n",
    "* choose an arbitrary coefficient and multiply the feature vector by this coefficient. \n",
    "* Then, sum these feature-coefficient products to get an output, `y`. \n",
    "* To spice things up (and not have a completely deterministic relationship), add a normally distributed white noise parameter to your output values. \n",
    "* Fit an ordinary least squares model to your generated mock data. \n",
    "* Repeat this for a varying number of features, and record the time required to fit the model. (Be sure to only record the time to train the model, not the time to generate the data.) \n",
    "* Finally, plot the number of features, n, versus the training time for the subsequent model."
   ]
  },
  {
   "cell_type": "code",
   "execution_count": 24,
   "metadata": {
    "ExecuteTime": {
     "end_time": "2020-07-14T17:03:29.471443Z",
     "start_time": "2020-07-14T17:03:25.810708Z"
    }
   },
   "outputs": [],
   "source": [
    "import pandas as pd\n",
    "import datetime\n",
    "from sklearn.linear_model import LinearRegression, Lasso"
   ]
  },
  {
   "cell_type": "code",
   "execution_count": 38,
   "metadata": {
    "ExecuteTime": {
     "end_time": "2020-07-14T17:19:45.077515Z",
     "start_time": "2020-07-14T17:19:15.879701Z"
    }
   },
   "outputs": [
    {
     "data": {
      "text/plain": [
       "[<matplotlib.lines.Line2D at 0x1a22184630>]"
      ]
     },
     "execution_count": 38,
     "metadata": {},
     "output_type": "execute_result"
    },
    {
     "data": {
      "image/png": "[encoded data removed]",
      "text/plain": [
       "<Figure size 432x288 with 1 Axes>"
      ]
     },
     "metadata": {
      "needs_background": "light"
     },
     "output_type": "display_data"
    }
   ],
   "source": [
    "# ⏰ Your code may take some time to run \n",
    "\n",
    "sample_size = 1000\n",
    "max_features = 500\n",
    "times = []\n",
    "for n_features in range(1, max_features + 1): \n",
    "    X = [np.random.uniform(low=-10, high=10, size=n_features) for p in range(sample_size)]\n",
    "    coeff = np.array(range(1, n+1))\n",
    "    y = np.sum(coeff*X, axis=1) + np.random.normal(loc=0, scale=.1, size=sample_size)\n",
    "    ols = LinearRegression()\n",
    "    start = datetime.datetime.now()\n",
    "    ols.fit(X, y)\n",
    "    end = datetime.datetime.now()\n",
    "    time = end - start\n",
    "    times.append(time)\n",
    "plt.plot(range(1, max_features + 1), [t.microseconds for t in times])"
   ]
  },
  {
   "cell_type": "markdown",
   "metadata": {},
   "source": [
    "- Repeat the same experiment for a Lasso penalized regression model"
   ]
  },
  {
   "cell_type": "code",
   "execution_count": 39,
   "metadata": {
    "ExecuteTime": {
     "end_time": "2020-07-14T17:21:18.978888Z",
     "start_time": "2020-07-14T17:21:05.184700Z"
    }
   },
   "outputs": [
    {
     "data": {
      "text/plain": [
       "[<matplotlib.lines.Line2D at 0x1a20eb1ac8>]"
      ]
     },
     "execution_count": 39,
     "metadata": {},
     "output_type": "execute_result"
    },
    {
     "data": {
      "image/png": "[encoded data removed]",
      "text/plain": [
       "<Figure size 432x288 with 1 Axes>"
      ]
     },
     "metadata": {
      "needs_background": "light"
     },
     "output_type": "display_data"
    }
   ],
   "source": [
    "# ⏰ Your code may take some time to run \n",
    "\n",
    "sample_size = 1000\n",
    "max_features = 500\n",
    "times = []\n",
    "for n_features in range(1, max_features + 1): \n",
    "    X = [np.random.uniform(low=-10, high=10, size=n_features) for p in range(sample_size)]\n",
    "    coeff = np.array(range(1, n+1))\n",
    "    y = np.sum(coeff*X, axis=1) + np.random.normal(loc=0, scale=.1, size=sample_size)\n",
    "    lasso = Lasso()\n",
    "    start = datetime.datetime.now()\n",
    "    lasso.fit(X, y)\n",
    "    end = datetime.datetime.now()\n",
    "    time = end - start\n",
    "    times.append(time)\n",
    "plt.plot(range(1, max_features + 1), [t.microseconds for t in times])"
   ]
  },
  {
   "cell_type": "markdown",
   "metadata": {},
   "source": [
    "## Optional (Level Up)\n",
    "\n",
    "### Show Just How Slow it Can Go!\n",
    "\n",
    "If you're up for putting your computer through the wringer and are very patient to allow the necessary computations, try increasing the maximum n from 1000 to 10,000 using Lasso regression. You should see an interesting pattern unveil. See if you can make any hypotheses as to why this might occur!\n",
    "\n",
    "_Note:_ ⏰ _You can expect your code to take over an hour to run on a 2.7 GHz speed CPU!_"
   ]
  },
  {
   "cell_type": "code",
   "execution_count": null,
   "metadata": {},
   "outputs": [],
   "source": [
    "# ⏰ Your code may take some time to run "
   ]
  },
  {
   "cell_type": "markdown",
   "metadata": {},
   "source": [
    "## Summary\n",
    "\n",
    "In this lab, you conducted various simulations to investigate the curse of dimensionality. This demonstrated some of the caveats of working with large datasets with an increasing number of features. With that, the next section will explore principal component analysis, a means of reducing the number of features in a dataset while preserving as much information as possible."
   ]
  }
 ],
 "metadata": {
  "kernelspec": {
   "display_name": "learn-env",
   "language": "python",
   "name": "learn-env"
  },
  "language_info": {
   "codemirror_mode": {
    "name": "ipython",
    "version": 3
   },
   "file_extension": ".py",
   "mimetype": "text/x-python",
   "name": "python",
   "nbconvert_exporter": "python",
   "pygments_lexer": "ipython3",
   "version": "3.6.9"
  },
  "toc": {
   "base_numbering": 1,
   "nav_menu": {},
   "number_sections": true,
   "sideBar": true,
   "skip_h1_title": false,
   "title_cell": "Table of Contents",
   "title_sidebar": "Contents",
   "toc_cell": false,
   "toc_position": {},
   "toc_section_display": true,
   "toc_window_display": false
  },
  "varInspector": {
   "cols": {
    "lenName": 16,
    "lenType": 16,
    "lenVar": 40
   },
   "kernels_config": {
    "python": {
     "delete_cmd_postfix": "",
     "delete_cmd_prefix": "del ",
     "library": "var_list.py",
     "varRefreshCmd": "print(var_dic_list())"
    },
    "r": {
     "delete_cmd_postfix": ") ",
     "delete_cmd_prefix": "rm(",
     "library": "var_list.r",
     "varRefreshCmd": "cat(var_dic_list()) "
    }
   },
   "types_to_exclude": [
    "module",
    "function",
    "builtin_function_or_method",
    "instance",
    "_Feature"
   ],
   "window_display": false
  }
 },
 "nbformat": 4,
 "nbformat_minor": 2
}
